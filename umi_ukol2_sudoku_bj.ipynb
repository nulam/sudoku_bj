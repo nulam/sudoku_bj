{
 "cells": [
  {
   "cell_type": "code",
   "execution_count": 140,
   "metadata": {
    "scrolled": false
   },
   "outputs": [
    {
     "name": "stdout",
     "output_type": "stream",
     "text": [
      "(array([[5., 3., 4., 6., 7., 8., 9., 1., 2.],\n",
      "       [6., 7., 2., 1., 9., 5., 3., 4., 8.],\n",
      "       [1., 9., 8., 3., 4., 2., 5., 6., 7.],\n",
      "       [8., 5., 9., 7., 6., 1., 4., 2., 3.],\n",
      "       [4., 2., 6., 8., 5., 3., 7., 9., 1.],\n",
      "       [7., 1., 3., 9., 2., 4., 8., 5., 6.],\n",
      "       [9., 6., 1., 5., 3., 7., 2., 8., 4.],\n",
      "       [2., 8., 7., 4., 1., 9., 6., 3., 5.],\n",
      "       [3., 4., 5., 2., 8., 6., 1., 7., 9.]]), set())\n",
      "rekurze se zavolala 3877-krat\n"
     ]
    }
   ],
   "source": [
    "import numpy as np\n",
    "\n",
    "X = np.nan\n",
    "\n",
    "sudoku_sample = np.array([\n",
    "    [5,3,X, X,7,X, X,X,X],\n",
    "    [6,X,X, 1,9,5, X,X,X],\n",
    "    [X,9,8, X,X,X, X,6,X],\n",
    "    \n",
    "    [8,X,X, X,6,X, X,X,3],\n",
    "    [4,X,X, 8,X,3, X,X,1],\n",
    "    [7,X,X, X,2,X, X,X,6],\n",
    "    \n",
    "    [X,6,X, X,X,X, 2,8,X],\n",
    "    [X,X,X, 4,1,9, X,X,5],\n",
    "    [X,X,X, X,8,X, X,7,9]])\n",
    "\n",
    "domain = list(range(1,10))\n",
    "\n",
    "call_count = 0\n",
    "\n",
    "def next_var(partial_solution):\n",
    "    return np.array(np.where(np.isnan(partial_solution)))[:,0]\n",
    "\n",
    "\n",
    "def constraints_satisfied(sol,x,y):\n",
    "    conflicts = set()\n",
    "    for idx in np.argwhere(sol[x,:] == sol[x,y]):\n",
    "        conflicts.add((x,idx[0]))\n",
    "    for idx in np.argwhere(sol[:,y] == sol[x,y]):\n",
    "        conflicts.add((idx[0],y))\n",
    "    for idx in np.array(np.argwhere(sol[int(x/3)*3:int(x/3)*3+3,int(y/3)*3:int(y/3)*3+3] == sol[x,y])).reshape((-1,2)):\n",
    "        conflicts.add((int(x/3)*3 + idx[0],int(y/3)*3 + idx[1]))\n",
    "    return len(conflicts) == 1, conflicts\n",
    "\n",
    "def backjumping(partial_solution):\n",
    "    global call_count\n",
    "    call_count += 1\n",
    "    if not np.isnan(partial_solution).any():\n",
    "        return partial_solution,set()\n",
    "    \n",
    "    partial_solution = partial_solution.copy()\n",
    "    solution = None\n",
    "    conflicts = set()\n",
    "    x,y = next_var(partial_solution)\n",
    "    for value in domain:\n",
    "        \n",
    "        partial_solution[x,y] = value        \n",
    "        satisfied, new_conflicts = constraints_satisfied(partial_solution,x,y)\n",
    "        if satisfied:\n",
    "            solution, new_conflicts = backjumping(partial_solution)\n",
    "        if solution is not None:\n",
    "            return solution,set()\n",
    "        elif (x,y) not in new_conflicts:\n",
    "            return None, new_conflicts\n",
    "        else:\n",
    "            conflicts = conflicts.union(new_conflicts)\n",
    "            conflicts.remove((x,y))\n",
    "            \n",
    "    return None,conflicts\n",
    "            \n",
    "print(backjumping(sudoku_sample))\n",
    "print(\"rekurze se zavolala %d-krat\" % call_count)"
   ]
  },
  {
   "cell_type": "code",
   "execution_count": 136,
   "metadata": {
    "scrolled": true
   },
   "outputs": [
    {
     "data": {
      "text/plain": [
       "(4, 7)"
      ]
     },
     "execution_count": 136,
     "metadata": {},
     "output_type": "execute_result"
    }
   ],
   "source": [
    "tuple(np.where(sudoku_sample == 4)[0])"
   ]
  },
  {
   "cell_type": "code",
   "execution_count": null,
   "metadata": {},
   "outputs": [],
   "source": []
  }
 ],
 "metadata": {
  "kernelspec": {
   "display_name": "Python 3",
   "language": "python",
   "name": "python3"
  },
  "language_info": {
   "codemirror_mode": {
    "name": "ipython",
    "version": 3
   },
   "file_extension": ".py",
   "mimetype": "text/x-python",
   "name": "python",
   "nbconvert_exporter": "python",
   "pygments_lexer": "ipython3",
   "version": "3.6.8"
  }
 },
 "nbformat": 4,
 "nbformat_minor": 4
}
